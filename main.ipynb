{
 "cells": [
  {
   "cell_type": "markdown",
   "metadata": {},
   "source": [
    "# Imports"
   ]
  },
  {
   "cell_type": "code",
   "execution_count": null,
   "metadata": {},
   "outputs": [],
   "source": [
    "from sklearn.metrics import classification_report\n",
    "from speech_models import speech_logistic_regression\n",
    "from process_dataset import speech_features, text_features\n",
    "from ensemble import SpeechTextEnsemble, StackEnsemble, VoteEnsemble, BlendEnsemble\n",
    "import numpy as np\n",
    "import pandas as pd\n",
    "import pickle"
   ]
  },
  {
   "cell_type": "markdown",
   "metadata": {},
   "source": [
    "# Methods"
   ]
  },
  {
   "cell_type": "code",
   "execution_count": null,
   "metadata": {},
   "outputs": [],
   "source": [
    "def check_accuracy(model, data_type, save_name=None):\n",
    "    if data_type == 'text':\n",
    "        x_train, x_test, y_train, y_test = text_features.get_train_test()\n",
    "    else:\n",
    "        x_train, x_test, y_train, y_test = speech_features.get_train_test() \n",
    "    \n",
    "    model.fit(x_train, y_train)\n",
    "\n",
    "    if save_name != None:\n",
    "        model.save(save_name)\n",
    "\n",
    "    results = model.predict(x_test)\n",
    "    print(classification_report(y_test, results))\n",
    "\n",
    "def cross_validate(model, data_type, cv, save_name=None):\n",
    "    if data_type == 'text':\n",
    "        x, y = text_features.get_data()\n",
    "    else:\n",
    "        x, y = speech_features.get_data()\n",
    "\n",
    "    if save_name != None:\n",
    "        model.save(save_name)\n",
    "\n",
    "    scoring = {'accuracy': 'accuracy',\n",
    "           'f1_macro': 'f1_macro',\n",
    "           'precision_macro': 'precision_macro',\n",
    "           'recall_macro' : 'recall_macro'}\n",
    "\n",
    "    scores = model.cross_validate(x, y, cv=cv, scoring=scoring)\n",
    "    print('Accuracy: ', np.mean(scores['test_accuracy']))\n",
    "    print('F1 Macro: ', np.mean(scores['test_f1_macro']))\n",
    "    print('Precision Macro: ', np.mean(scores['test_precision_macro']))\n",
    "    print('Recall Macro: ', np.mean(scores['test_recall_macro']))\n"
   ]
  },
  {
   "cell_type": "markdown",
   "metadata": {},
   "source": [
    "# Main"
   ]
  },
  {
   "cell_type": "code",
   "execution_count": null,
   "metadata": {},
   "outputs": [],
   "source": [
    "meta_cls = speech_logistic_regression.get_logistic_regression()\n"
   ]
  },
  {
   "cell_type": "code",
   "execution_count": null,
   "metadata": {},
   "outputs": [],
   "source": [
    "# speech_model = BlendEnsemble(meta_cls=meta_cls, data_type='speech')\n",
    "speech_model = StackEnsemble(meta_cls=meta_cls, data_type='speech')\n",
    "# speech_model = VoteEnsemble(type='soft', data_type='speech')\n",
    "# speech_model = VoteEnsemble(type='hard', data_type='speech')"
   ]
  },
  {
   "cell_type": "code",
   "execution_count": null,
   "metadata": {},
   "outputs": [],
   "source": [
    "# text_model = BlendEnsemble(meta_cls=meta_cls, data_type='text')\n",
    "text_model = StackEnsemble(meta_cls=meta_cls, data_type='text')\n",
    "# text_model = VoteEnsemble(type='soft', data_type='text')\n",
    "# text_model = VoteEnsemble(type='hard', data_type='text')"
   ]
  },
  {
   "cell_type": "code",
   "execution_count": null,
   "metadata": {},
   "outputs": [],
   "source": [
    "combined_model = SpeechTextEnsemble(fit_bases=False)\n",
    "x_train_s, x_test_s, y_train_s, y_test_s = speech_features.get_train_test()\n",
    "x_train_t, x_test_t, y_train_t, y_test_t = text_features.get_train_test()\n"
   ]
  },
  {
   "cell_type": "code",
   "execution_count": null,
   "metadata": {},
   "outputs": [],
   "source": [
    "result = combined_model.predict(x_test_s, x_test_t)\n"
   ]
  },
  {
   "cell_type": "markdown",
   "metadata": {},
   "source": [
    "# Result"
   ]
  },
  {
   "cell_type": "code",
   "execution_count": null,
   "metadata": {},
   "outputs": [],
   "source": [
    "print(classification_report(y_test_s, result))"
   ]
  }
 ],
 "metadata": {
  "language_info": {
   "name": "python"
  },
  "orig_nbformat": 4
 },
 "nbformat": 4,
 "nbformat_minor": 2
}
