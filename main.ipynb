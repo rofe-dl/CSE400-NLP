{
 "cells": [
  {
   "cell_type": "markdown",
   "metadata": {},
   "source": [
    "# Imports"
   ]
  },
  {
   "cell_type": "code",
   "execution_count": 1,
   "metadata": {},
   "outputs": [
    {
     "name": "stderr",
     "output_type": "stream",
     "text": [
      "/home/rafid/Documents/github/CSE400-NLP/env/lib/python3.8/site-packages/xgboost/compat.py:36: FutureWarning: pandas.Int64Index is deprecated and will be removed from pandas in a future version. Use pandas.Index with the appropriate dtype instead.\n",
      "  from pandas import MultiIndex, Int64Index\n"
     ]
    }
   ],
   "source": [
    "from sklearn.metrics import classification_report\n",
    "from sklearn.linear_model import LogisticRegression\n",
    "from speech_models import speech_logistic_regression\n",
    "from process_dataset import speech_features, text_features\n",
    "from ensemble import SpeechTextEnsemble, StackEnsemble, VoteEnsemble, BlendEnsemble\n",
    "import numpy as np\n",
    "import pandas as pd\n",
    "import pickle"
   ]
  },
  {
   "cell_type": "markdown",
   "metadata": {},
   "source": [
    "# Methods"
   ]
  },
  {
   "cell_type": "code",
   "execution_count": 3,
   "metadata": {},
   "outputs": [],
   "source": [
    "def check_accuracy(model, data_type):\n",
    "    if data_type == 'text':\n",
    "        x_train, x_test, y_train, y_test = text_features.get_train_test()\n",
    "    else:\n",
    "        x_train, x_test, y_train, y_test = speech_features.get_train_test() \n",
    "    \n",
    "    model.fit(x_train, y_train)\n",
    "\n",
    "    results = model.predict(x_test)\n",
    "    return classification_report(y_test, results, digits=4)\n",
    "\n",
    "def print_scores(scores):\n",
    "    print('Accuracy: ', np.mean(scores['test_accuracy']))\n",
    "    print('F1 Macro: ', np.mean(scores['test_f1_macro']))\n",
    "    print('Precision Macro: ', np.mean(scores['test_precision_macro']))\n",
    "    print('Recall Macro: ', np.mean(scores['test_recall_macro']))\n"
   ]
  },
  {
   "cell_type": "markdown",
   "metadata": {},
   "source": [
    "# Main"
   ]
  },
  {
   "cell_type": "code",
   "execution_count": 4,
   "metadata": {},
   "outputs": [],
   "source": [
    "# for stacking ensembles, need a meta classifier\n",
    "meta_cls = LogisticRegression(solver='liblinear', random_state=42)"
   ]
  },
  {
   "cell_type": "markdown",
   "metadata": {},
   "source": [
    "### Speech Ensemble Models"
   ]
  },
  {
   "cell_type": "code",
   "execution_count": null,
   "metadata": {},
   "outputs": [],
   "source": [
    "\n",
    "# speech_model = BlendEnsemble(meta_cls=meta_cls, data_type='speech')\n",
    "speech_model = StackEnsemble(meta_cls=meta_cls, data_type='speech')\n",
    "# speech_model = VoteEnsemble(type='soft', data_type='speech')\n",
    "# speech_model = VoteEnsemble(type='hard', data_type='speech')\n",
    "\n",
    "speech_report = check_accuracy(speech_model, data_type='speech')"
   ]
  },
  {
   "cell_type": "code",
   "execution_count": 8,
   "metadata": {},
   "outputs": [
    {
     "name": "stdout",
     "output_type": "stream",
     "text": [
      "              precision    recall  f1-score   support\n",
      "\n",
      "         ang       0.70      0.71      0.70       208\n",
      "         hap       0.66      0.62      0.64       317\n",
      "         neu       0.69      0.67      0.68       369\n",
      "         sad       0.67      0.76      0.71       213\n",
      "\n",
      "    accuracy                           0.68      1107\n",
      "   macro avg       0.68      0.69      0.68      1107\n",
      "weighted avg       0.68      0.68      0.68      1107\n",
      "\n"
     ]
    }
   ],
   "source": [
    "print(speech_report)\n",
    "speech_model.save('stack_speech.pkl')"
   ]
  },
  {
   "cell_type": "markdown",
   "metadata": {},
   "source": [
    "### Text Ensemble Models"
   ]
  },
  {
   "cell_type": "code",
   "execution_count": null,
   "metadata": {},
   "outputs": [],
   "source": [
    "# text_model = BlendEnsemble(meta_cls=meta_cls, data_type='text')\n",
    "text_model = StackEnsemble(meta_cls=meta_cls, data_type='text')\n",
    "# text_model = VoteEnsemble(type='soft', data_type='text')\n",
    "# text_model = VoteEnsemble(type='hard', data_type='text')\n",
    "\n",
    "text_report = check_accuracy(text_model, data_type='text')"
   ]
  },
  {
   "cell_type": "code",
   "execution_count": 7,
   "metadata": {},
   "outputs": [
    {
     "name": "stdout",
     "output_type": "stream",
     "text": [
      "              precision    recall  f1-score   support\n",
      "\n",
      "         ang       0.80      0.68      0.74       208\n",
      "         hap       0.70      0.68      0.69       317\n",
      "         neu       0.61      0.67      0.63       369\n",
      "         sad       0.66      0.66      0.66       213\n",
      "\n",
      "    accuracy                           0.67      1107\n",
      "   macro avg       0.69      0.67      0.68      1107\n",
      "weighted avg       0.68      0.67      0.67      1107\n",
      "\n"
     ]
    }
   ],
   "source": [
    "print(text_report)\n",
    "text_model.save('stack_text.pkl')"
   ]
  },
  {
   "cell_type": "markdown",
   "metadata": {},
   "source": [
    "### Speech + Text Ensemble Model"
   ]
  },
  {
   "cell_type": "code",
   "execution_count": 12,
   "metadata": {},
   "outputs": [],
   "source": [
    "# combined_model = SpeechTextEnsemble(speech_model, text_model, fit_bases=True)\n",
    "combined_model = SpeechTextEnsemble(fit_bases=False)"
   ]
  },
  {
   "cell_type": "markdown",
   "metadata": {},
   "source": [
    "##### Accuracy Test"
   ]
  },
  {
   "cell_type": "code",
   "execution_count": 13,
   "metadata": {},
   "outputs": [],
   "source": [
    "x_train_s, x_test_s, y_train_s, y_test_s = speech_features.get_train_test()\n",
    "x_train_t, x_test_t, y_train_t, y_test_t = text_features.get_train_test()\n",
    "combined_model.fit(x_train_s, x_train_t, y_train_s)\n",
    "result = combined_model.predict(x_test_s, x_test_t)"
   ]
  },
  {
   "cell_type": "markdown",
   "metadata": {},
   "source": [
    "##### K Fold Test"
   ]
  },
  {
   "cell_type": "code",
   "execution_count": null,
   "metadata": {},
   "outputs": [],
   "source": [
    "speech_x_y = speech_features.get_data()\n",
    "text_x_y = text_features.get_data()\n",
    "\n",
    "combined_k_fold = combined_model.cross_validate(speech_x_y[0], text_x_y[0].toarray(), speech_x_y[1], cv=5)"
   ]
  },
  {
   "cell_type": "markdown",
   "metadata": {},
   "source": [
    "# Result"
   ]
  },
  {
   "cell_type": "code",
   "execution_count": 14,
   "metadata": {},
   "outputs": [
    {
     "name": "stdout",
     "output_type": "stream",
     "text": [
      "              precision    recall  f1-score   support\n",
      "\n",
      "         ang     0.8028    0.8221    0.8124       208\n",
      "         hap     0.7974    0.7697    0.7833       317\n",
      "         neu     0.7543    0.7073    0.7301       369\n",
      "         sad     0.7355    0.8357    0.7824       213\n",
      "\n",
      "    accuracy                         0.7715      1107\n",
      "   macro avg     0.7725    0.7837    0.7770      1107\n",
      "weighted avg     0.7722    0.7715    0.7708      1107\n",
      "\n"
     ]
    }
   ],
   "source": [
    "print(classification_report(y_test_s, result, digits=4))"
   ]
  },
  {
   "cell_type": "code",
   "execution_count": null,
   "metadata": {},
   "outputs": [],
   "source": [
    "print_scores(combined_k_fold)"
   ]
  },
  {
   "cell_type": "markdown",
   "metadata": {},
   "source": [
    "# Save Model"
   ]
  },
  {
   "cell_type": "code",
   "execution_count": 11,
   "metadata": {},
   "outputs": [],
   "source": [
    "combined_model.save('final_model.pkl')"
   ]
  }
 ],
 "metadata": {
  "interpreter": {
   "hash": "4ed4bbf83b94bed540e4a6248a5de1e2eb8a809c16f0f6392d7883b316929957"
  },
  "kernelspec": {
   "display_name": "Python 3.8.10 ('env': venv)",
   "language": "python",
   "name": "python3"
  },
  "language_info": {
   "codemirror_mode": {
    "name": "ipython",
    "version": 3
   },
   "file_extension": ".py",
   "mimetype": "text/x-python",
   "name": "python",
   "nbconvert_exporter": "python",
   "pygments_lexer": "ipython3",
   "version": "3.8.10"
  },
  "orig_nbformat": 4
 },
 "nbformat": 4,
 "nbformat_minor": 2
}
