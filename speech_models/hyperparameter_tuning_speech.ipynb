{
 "cells": [
  {
   "cell_type": "code",
   "execution_count": 15,
   "metadata": {},
   "outputs": [],
   "source": [
    "from sklearn.linear_model import LogisticRegression\n",
    "from sklearn.model_selection import GridSearchCV, train_test_split, RandomizedSearchCV, ParameterGrid\n",
    "from sklearn.ensemble import RandomForestClassifier\n",
    "from sklearn.preprocessing import MinMaxScaler\n",
    "from sklearn.metrics import classification_report\n",
    "from sklearn.svm import SVC\n",
    "from sklearn.model_selection import cross_validate, cross_val_score, StratifiedKFold\n",
    "\n",
    "import pickle\n",
    "import numpy as np\n",
    "\n",
    "import sys\n",
    "sys.path.append('..')\n",
    "\n",
    "from process_dataset import speech_features"
   ]
  },
  {
   "cell_type": "code",
   "execution_count": 16,
   "metadata": {},
   "outputs": [],
   "source": [
    "def print_scores(scores):\n",
    "    print('Accuracy: ', np.mean(scores['test_accuracy']))\n",
    "    print('F1 Macro: ', np.mean(scores['test_f1_macro']))\n",
    "    print('Precision Macro: ', np.mean(scores['test_precision_macro']))\n",
    "    print('Recall Macro: ', np.mean(scores['test_recall_macro']))\n",
    "\n",
    "def get_data():\n",
    "    with open('../data/speech_features.pkl', 'rb') as f:\n",
    "        data = pickle.load(f)\n",
    "\n",
    "    x = np.array(data[0])\n",
    "    y = np.array(data[1])\n",
    "    \n",
    "    x = MinMaxScaler().fit_transform(x)\n",
    "\n",
    "    return x, y\n",
    "\n",
    "x, y = get_data()\n",
    "\n",
    "def cross_validate_model(model):\n",
    "    x, y = get_data()\n",
    "    scoring = {'accuracy': 'accuracy',\n",
    "           'f1_macro': 'f1_macro',\n",
    "           'precision_macro': 'precision_macro',\n",
    "           'recall_macro' : 'recall_macro'}\n",
    "\n",
    "    scores = cross_validate(model, x, y, cv=5, scoring=scoring, n_jobs=-1)\n",
    "    print_scores(scores)\n",
    "\n",
    "def check_accuracy(model):\n",
    "    x, y = get_data()\n",
    "    x_train, x_test, y_train, y_test = train_test_split(x, y, test_size=0.2, random_state=42)\n",
    "    model.fit(x_train, y_train)\n",
    "    results = model.predict(x_test)\n",
    "\n",
    "    print(classification_report(y_test, results))"
   ]
  },
  {
   "cell_type": "markdown",
   "metadata": {},
   "source": [
    "## Logistic Regression"
   ]
  },
  {
   "cell_type": "code",
   "execution_count": 14,
   "metadata": {},
   "outputs": [
    {
     "name": "stdout",
     "output_type": "stream",
     "text": [
      "              precision    recall  f1-score   support\n",
      "\n",
      "         ang       0.62      0.73      0.67       208\n",
      "         hap       0.64      0.58      0.61       317\n",
      "         neu       0.71      0.56      0.63       369\n",
      "         sad       0.60      0.80      0.69       213\n",
      "\n",
      "    accuracy                           0.64      1107\n",
      "   macro avg       0.64      0.67      0.65      1107\n",
      "weighted avg       0.65      0.64      0.64      1107\n",
      "\n"
     ]
    },
    {
     "name": "stderr",
     "output_type": "stream",
     "text": [
      "/home/rafid/Documents/github/CSE400-NLP/env/lib/python3.8/site-packages/sklearn/linear_model/_sag.py:352: ConvergenceWarning: The max_iter was reached which means the coef_ did not converge\n",
      "  warnings.warn(\n"
     ]
    }
   ],
   "source": [
    "# lr = LogisticRegression(penalty='l1', solver='liblinear')\n",
    "# lr = LogisticRegression(C=1, class_weight='balanced', random_state=42, solver='sag')\n",
    "lr = LogisticRegression(C=0.75, class_weight='balanced', random_state=42, solver='liblinear')\n",
    "# cross_validate_model(lr)\n",
    "check_accuracy(lr)"
   ]
  },
  {
   "cell_type": "markdown",
   "metadata": {},
   "source": [
    "### Random Search"
   ]
  },
  {
   "cell_type": "code",
   "execution_count": 8,
   "metadata": {},
   "outputs": [],
   "source": [
    "params = {\n",
    "    'solver': ['liblinear', 'saga', 'sag', 'newton-cg'],\n",
    "    'penalty' : ['l1', 'l2', 'elasticnet', 'none'],\n",
    "    'C' : [0.001, 0.01, 0.1, 1, 10, 30, 50],\n",
    "    'fit_intercept': [True, False],\n",
    "    'class_weight': ['balanced', None],\n",
    "    'multi_class': ['auto', 'ovr', 'multinomial']\n",
    "}"
   ]
  },
  {
   "cell_type": "code",
   "execution_count": null,
   "metadata": {},
   "outputs": [],
   "source": [
    "lr_g = RandomizedSearchCV(LogisticRegression(random_state=42), param_distributions=params, n_iter=50, n_jobs=-1, cv=5, random_state=42, verbose=5)\n",
    "\n",
    "lr_g.fit(x, y)"
   ]
  },
  {
   "cell_type": "code",
   "execution_count": 11,
   "metadata": {},
   "outputs": [
    {
     "name": "stdout",
     "output_type": "stream",
     "text": [
      "{'solver': 'sag', 'penalty': 'l2', 'multi_class': 'auto', 'fit_intercept': True, 'class_weight': 'balanced', 'C': 1}\n",
      "0.627367516592586\n",
      "LogisticRegression(C=1, class_weight='balanced', random_state=42, solver='sag')\n"
     ]
    }
   ],
   "source": [
    "print(lr_g.best_params_)\n",
    "print(lr_g.best_score_)\n",
    "print(lr_g.best_estimator_)"
   ]
  },
  {
   "cell_type": "markdown",
   "metadata": {},
   "source": [
    "### Grid Search"
   ]
  },
  {
   "cell_type": "code",
   "execution_count": 20,
   "metadata": {},
   "outputs": [
    {
     "name": "stdout",
     "output_type": "stream",
     "text": [
      "24 combinations per fold\n"
     ]
    }
   ],
   "source": [
    "params = {\n",
    "    'penalty': ['l2', 'none', 'l1'],\n",
    "    'solver' : ['sag', 'liblinear'],\n",
    "    'C': [0.75, 1, 3, 5]\n",
    "}\n",
    "lr_g = GridSearchCV(LogisticRegression(random_state=42, multi_class='auto', fit_intercept=True, class_weight='balanced'), param_grid=params, cv=5, return_train_score=False, verbose=5, n_jobs=-1)\n",
    "\n",
    "pg = ParameterGrid(params)\n",
    "print(len(pg), 'combinations per fold')\n"
   ]
  },
  {
   "cell_type": "code",
   "execution_count": 21,
   "metadata": {},
   "outputs": [
    {
     "name": "stdout",
     "output_type": "stream",
     "text": [
      "Fitting 5 folds for each of 24 candidates, totalling 120 fits\n",
      "[CV 1/5] END C=0.75, penalty=l2, solver=liblinear;, score=0.659 total time=   4.5s\n",
      "[CV 2/5] END C=0.75, penalty=l2, solver=liblinear;, score=0.634 total time=   5.5s\n",
      "[CV 3/5] END C=0.75, penalty=l2, solver=liblinear;, score=0.617 total time=   5.5s\n"
     ]
    },
    {
     "name": "stderr",
     "output_type": "stream",
     "text": [
      "/home/rafid/Documents/github/CSE400-NLP/env/lib/python3.8/site-packages/sklearn/linear_model/_logistic.py:1483: UserWarning: Setting penalty='none' will ignore the C and l1_ratio parameters\n",
      "  warnings.warn(\n"
     ]
    },
    {
     "name": "stdout",
     "output_type": "stream",
     "text": [
      "[CV 4/5] END C=0.75, penalty=l2, solver=liblinear;, score=0.632 total time=   4.1s\n"
     ]
    },
    {
     "name": "stderr",
     "output_type": "stream",
     "text": [
      "/home/rafid/Documents/github/CSE400-NLP/env/lib/python3.8/site-packages/sklearn/linear_model/_logistic.py:1483: UserWarning: Setting penalty='none' will ignore the C and l1_ratio parameters\n",
      "  warnings.warn(\n"
     ]
    },
    {
     "name": "stdout",
     "output_type": "stream",
     "text": [
      "[CV 5/5] END C=0.75, penalty=l2, solver=liblinear;, score=0.634 total time=   4.0s\n"
     ]
    },
    {
     "name": "stderr",
     "output_type": "stream",
     "text": [
      "/home/rafid/Documents/github/CSE400-NLP/env/lib/python3.8/site-packages/sklearn/linear_model/_logistic.py:1483: UserWarning: Setting penalty='none' will ignore the C and l1_ratio parameters\n",
      "  warnings.warn(\n",
      "/home/rafid/Documents/github/CSE400-NLP/env/lib/python3.8/site-packages/sklearn/linear_model/_sag.py:352: ConvergenceWarning: The max_iter was reached which means the coef_ did not converge\n",
      "  warnings.warn(\n",
      "/home/rafid/Documents/github/CSE400-NLP/env/lib/python3.8/site-packages/sklearn/linear_model/_logistic.py:1483: UserWarning: Setting penalty='none' will ignore the C and l1_ratio parameters\n",
      "  warnings.warn(\n"
     ]
    },
    {
     "name": "stdout",
     "output_type": "stream",
     "text": [
      "[CV 1/5] END ....C=0.75, penalty=l2, solver=sag;, score=0.659 total time=  15.4s\n"
     ]
    },
    {
     "name": "stderr",
     "output_type": "stream",
     "text": [
      "/home/rafid/Documents/github/CSE400-NLP/env/lib/python3.8/site-packages/sklearn/linear_model/_sag.py:352: ConvergenceWarning: The max_iter was reached which means the coef_ did not converge\n",
      "  warnings.warn(\n",
      "/home/rafid/Documents/github/CSE400-NLP/env/lib/python3.8/site-packages/sklearn/linear_model/_logistic.py:1483: UserWarning: Setting penalty='none' will ignore the C and l1_ratio parameters\n",
      "  warnings.warn(\n",
      "/home/rafid/Documents/github/CSE400-NLP/env/lib/python3.8/site-packages/sklearn/linear_model/_sag.py:352: ConvergenceWarning: The max_iter was reached which means the coef_ did not converge\n",
      "  warnings.warn(\n"
     ]
    },
    {
     "name": "stdout",
     "output_type": "stream",
     "text": [
      "[CV 2/5] END ....C=0.75, penalty=l2, solver=sag;, score=0.624 total time=  15.6s\n",
      "[CV 4/5] END ....C=0.75, penalty=l2, solver=sag;, score=0.627 total time=  15.8s\n",
      "[CV 1/5] END C=0.75, penalty=none, solver=liblinear;, score=nan total time=   0.0s\n",
      "[CV 2/5] END C=0.75, penalty=none, solver=liblinear;, score=nan total time=   0.0s\n",
      "[CV 3/5] END C=0.75, penalty=none, solver=liblinear;, score=nan total time=   0.0s\n",
      "[CV 4/5] END C=0.75, penalty=none, solver=liblinear;, score=nan total time=   0.0s\n",
      "[CV 5/5] END C=0.75, penalty=none, solver=liblinear;, score=nan total time=   0.0s\n",
      "[CV 1/5] END ......C=0.75, penalty=l1, solver=sag;, score=nan total time=   0.0s\n",
      "[CV 2/5] END ......C=0.75, penalty=l1, solver=sag;, score=nan total time=   0.0s\n",
      "[CV 3/5] END ......C=0.75, penalty=l1, solver=sag;, score=nan total time=   0.0s\n",
      "[CV 4/5] END ......C=0.75, penalty=l1, solver=sag;, score=nan total time=   0.0s\n",
      "[CV 5/5] END ......C=0.75, penalty=l1, solver=sag;, score=nan total time=   0.0s\n",
      "[CV 5/5] END ....C=0.75, penalty=l2, solver=sag;, score=0.622 total time=  16.0s\n"
     ]
    },
    {
     "name": "stderr",
     "output_type": "stream",
     "text": [
      "/home/rafid/Documents/github/CSE400-NLP/env/lib/python3.8/site-packages/sklearn/linear_model/_sag.py:352: ConvergenceWarning: The max_iter was reached which means the coef_ did not converge\n",
      "  warnings.warn(\n",
      "/home/rafid/Documents/github/CSE400-NLP/env/lib/python3.8/site-packages/sklearn/linear_model/_sag.py:352: ConvergenceWarning: The max_iter was reached which means the coef_ did not converge\n",
      "  warnings.warn(\n"
     ]
    },
    {
     "name": "stdout",
     "output_type": "stream",
     "text": [
      "[CV 3/5] END ....C=0.75, penalty=l2, solver=sag;, score=0.609 total time=  16.9s\n"
     ]
    },
    {
     "name": "stderr",
     "output_type": "stream",
     "text": [
      "/home/rafid/Documents/github/CSE400-NLP/env/lib/python3.8/site-packages/sklearn/linear_model/_sag.py:352: ConvergenceWarning: The max_iter was reached which means the coef_ did not converge\n",
      "  warnings.warn(\n"
     ]
    },
    {
     "name": "stdout",
     "output_type": "stream",
     "text": [
      "[CV 1/5] END ..C=0.75, penalty=none, solver=sag;, score=0.632 total time=  15.6s\n"
     ]
    },
    {
     "name": "stderr",
     "output_type": "stream",
     "text": [
      "/home/rafid/Documents/github/CSE400-NLP/env/lib/python3.8/site-packages/sklearn/linear_model/_sag.py:352: ConvergenceWarning: The max_iter was reached which means the coef_ did not converge\n",
      "  warnings.warn(\n"
     ]
    },
    {
     "name": "stdout",
     "output_type": "stream",
     "text": [
      "[CV 2/5] END ..C=0.75, penalty=none, solver=sag;, score=0.605 total time=  15.3s\n"
     ]
    },
    {
     "name": "stderr",
     "output_type": "stream",
     "text": [
      "/home/rafid/Documents/github/CSE400-NLP/env/lib/python3.8/site-packages/sklearn/linear_model/_sag.py:352: ConvergenceWarning: The max_iter was reached which means the coef_ did not converge\n",
      "  warnings.warn(\n"
     ]
    },
    {
     "name": "stdout",
     "output_type": "stream",
     "text": [
      "[CV 3/5] END ..C=0.75, penalty=none, solver=sag;, score=0.589 total time=  15.8s\n",
      "[CV 3/5] END C=0.75, penalty=l1, solver=liblinear;, score=0.608 total time=  11.6s\n",
      "[CV 2/5] END C=0.75, penalty=l1, solver=liblinear;, score=0.635 total time=  14.2s\n"
     ]
    },
    {
     "name": "stderr",
     "output_type": "stream",
     "text": [
      "/home/rafid/Documents/github/CSE400-NLP/env/lib/python3.8/site-packages/sklearn/linear_model/_sag.py:352: ConvergenceWarning: The max_iter was reached which means the coef_ did not converge\n",
      "  warnings.warn(\n",
      "/home/rafid/Documents/github/CSE400-NLP/env/lib/python3.8/site-packages/sklearn/linear_model/_sag.py:352: ConvergenceWarning: The max_iter was reached which means the coef_ did not converge\n",
      "  warnings.warn(\n"
     ]
    },
    {
     "name": "stdout",
     "output_type": "stream",
     "text": [
      "[CV 5/5] END ..C=0.75, penalty=none, solver=sag;, score=0.615 total time=  16.0s\n",
      "[CV 4/5] END ..C=0.75, penalty=none, solver=sag;, score=0.602 total time=  16.5s\n",
      "[CV 1/5] END C=0.75, penalty=l1, solver=liblinear;, score=0.662 total time=  16.3s\n",
      "[CV 1/5] END .C=1, penalty=l2, solver=liblinear;, score=0.663 total time=   4.7s\n",
      "[CV 5/5] END C=0.75, penalty=l1, solver=liblinear;, score=0.626 total time=  14.7s\n",
      "[CV 4/5] END C=0.75, penalty=l1, solver=liblinear;, score=0.636 total time=  17.5s\n",
      "[CV 2/5] END .C=1, penalty=l2, solver=liblinear;, score=0.637 total time=   4.8s\n"
     ]
    },
    {
     "name": "stderr",
     "output_type": "stream",
     "text": [
      "/home/rafid/Documents/github/CSE400-NLP/env/lib/python3.8/site-packages/sklearn/linear_model/_sag.py:352: ConvergenceWarning: The max_iter was reached which means the coef_ did not converge\n",
      "  warnings.warn(\n"
     ]
    },
    {
     "name": "stdout",
     "output_type": "stream",
     "text": [
      "[CV 1/5] END .......C=1, penalty=l2, solver=sag;, score=0.658 total time=  16.7s\n"
     ]
    },
    {
     "name": "stderr",
     "output_type": "stream",
     "text": [
      "/home/rafid/Documents/github/CSE400-NLP/env/lib/python3.8/site-packages/sklearn/linear_model/_sag.py:352: ConvergenceWarning: The max_iter was reached which means the coef_ did not converge\n",
      "  warnings.warn(\n"
     ]
    },
    {
     "name": "stdout",
     "output_type": "stream",
     "text": [
      "[CV 2/5] END .......C=1, penalty=l2, solver=sag;, score=0.622 total time=  15.4s\n",
      "[CV 3/5] END .C=1, penalty=l2, solver=liblinear;, score=0.612 total time=   5.8s\n",
      "[CV 4/5] END .C=1, penalty=l2, solver=liblinear;, score=0.627 total time=   6.0s\n",
      "[CV 5/5] END .C=1, penalty=l2, solver=liblinear;, score=0.630 total time=   4.1s\n"
     ]
    },
    {
     "name": "stderr",
     "output_type": "stream",
     "text": [
      "/home/rafid/Documents/github/CSE400-NLP/env/lib/python3.8/site-packages/sklearn/linear_model/_sag.py:352: ConvergenceWarning: The max_iter was reached which means the coef_ did not converge\n",
      "  warnings.warn(\n",
      "/home/rafid/Documents/github/CSE400-NLP/env/lib/python3.8/site-packages/sklearn/linear_model/_sag.py:352: ConvergenceWarning: The max_iter was reached which means the coef_ did not converge\n",
      "  warnings.warn(\n"
     ]
    },
    {
     "name": "stdout",
     "output_type": "stream",
     "text": [
      "[CV 4/5] END .......C=1, penalty=l2, solver=sag;, score=0.624 total time=  15.0s\n",
      "[CV 1/5] END .C=1, penalty=none, solver=liblinear;, score=nan total time=   0.0s\n",
      "[CV 2/5] END .C=1, penalty=none, solver=liblinear;, score=nan total time=   0.0s\n",
      "[CV 3/5] END .C=1, penalty=none, solver=liblinear;, score=nan total time=   0.0s\n",
      "[CV 4/5] END .C=1, penalty=none, solver=liblinear;, score=nan total time=   0.0s\n",
      "[CV 5/5] END .C=1, penalty=none, solver=liblinear;, score=nan total time=   0.0s\n",
      "[CV 1/5] END .........C=1, penalty=l1, solver=sag;, score=nan total time=   0.0s\n",
      "[CV 2/5] END .........C=1, penalty=l1, solver=sag;, score=nan total time=   0.0s\n",
      "[CV 3/5] END .........C=1, penalty=l1, solver=sag;, score=nan total time=   0.0s\n",
      "[CV 4/5] END .........C=1, penalty=l1, solver=sag;, score=nan total time=   0.0s\n",
      "[CV 5/5] END .......C=1, penalty=l2, solver=sag;, score=0.619 total time=  15.2s\n",
      "[CV 5/5] END .........C=1, penalty=l1, solver=sag;, score=nan total time=   0.0s\n",
      "[CV 3/5] END .......C=1, penalty=l2, solver=sag;, score=0.614 total time=  16.6s\n"
     ]
    },
    {
     "name": "stderr",
     "output_type": "stream",
     "text": [
      "/home/rafid/Documents/github/CSE400-NLP/env/lib/python3.8/site-packages/sklearn/linear_model/_sag.py:352: ConvergenceWarning: The max_iter was reached which means the coef_ did not converge\n",
      "  warnings.warn(\n",
      "/home/rafid/Documents/github/CSE400-NLP/env/lib/python3.8/site-packages/sklearn/linear_model/_sag.py:352: ConvergenceWarning: The max_iter was reached which means the coef_ did not converge\n",
      "  warnings.warn(\n"
     ]
    },
    {
     "name": "stdout",
     "output_type": "stream",
     "text": [
      "[CV 1/5] END .....C=1, penalty=none, solver=sag;, score=0.632 total time=  15.7s\n"
     ]
    },
    {
     "name": "stderr",
     "output_type": "stream",
     "text": [
      "/home/rafid/Documents/github/CSE400-NLP/env/lib/python3.8/site-packages/sklearn/linear_model/_sag.py:352: ConvergenceWarning: The max_iter was reached which means the coef_ did not converge\n",
      "  warnings.warn(\n"
     ]
    },
    {
     "name": "stdout",
     "output_type": "stream",
     "text": [
      "[CV 3/5] END .....C=1, penalty=none, solver=sag;, score=0.589 total time=  15.5s\n"
     ]
    },
    {
     "name": "stderr",
     "output_type": "stream",
     "text": [
      "/home/rafid/Documents/github/CSE400-NLP/env/lib/python3.8/site-packages/sklearn/linear_model/_sag.py:352: ConvergenceWarning: The max_iter was reached which means the coef_ did not converge\n",
      "  warnings.warn(\n"
     ]
    },
    {
     "name": "stdout",
     "output_type": "stream",
     "text": [
      "[CV 2/5] END .....C=1, penalty=none, solver=sag;, score=0.605 total time=  17.0s\n"
     ]
    },
    {
     "name": "stderr",
     "output_type": "stream",
     "text": [
      "/home/rafid/Documents/github/CSE400-NLP/env/lib/python3.8/site-packages/sklearn/linear_model/_sag.py:352: ConvergenceWarning: The max_iter was reached which means the coef_ did not converge\n",
      "  warnings.warn(\n"
     ]
    },
    {
     "name": "stdout",
     "output_type": "stream",
     "text": [
      "[CV 4/5] END .....C=1, penalty=none, solver=sag;, score=0.602 total time=  16.3s\n"
     ]
    },
    {
     "name": "stderr",
     "output_type": "stream",
     "text": [
      "/home/rafid/Documents/github/CSE400-NLP/env/lib/python3.8/site-packages/sklearn/linear_model/_sag.py:352: ConvergenceWarning: The max_iter was reached which means the coef_ did not converge\n",
      "  warnings.warn(\n"
     ]
    },
    {
     "name": "stdout",
     "output_type": "stream",
     "text": [
      "[CV 5/5] END .....C=1, penalty=none, solver=sag;, score=0.615 total time=  15.7s\n",
      "[CV 3/5] END .C=1, penalty=l1, solver=liblinear;, score=0.608 total time=  19.3s\n",
      "[CV 1/5] END .C=1, penalty=l1, solver=liblinear;, score=0.659 total time=  19.9s\n",
      "[CV 2/5] END .C=1, penalty=l1, solver=liblinear;, score=0.636 total time=  23.0s\n",
      "[CV 1/5] END .C=3, penalty=l2, solver=liblinear;, score=0.658 total time=   5.5s\n"
     ]
    },
    {
     "name": "stderr",
     "output_type": "stream",
     "text": [
      "/home/rafid/Documents/github/CSE400-NLP/env/lib/python3.8/site-packages/sklearn/linear_model/_sag.py:352: ConvergenceWarning: The max_iter was reached which means the coef_ did not converge\n",
      "  warnings.warn(\n"
     ]
    },
    {
     "name": "stdout",
     "output_type": "stream",
     "text": [
      "[CV 1/5] END .......C=3, penalty=l2, solver=sag;, score=0.648 total time=  15.8s\n"
     ]
    },
    {
     "name": "stderr",
     "output_type": "stream",
     "text": [
      "/home/rafid/Documents/github/CSE400-NLP/env/lib/python3.8/site-packages/sklearn/linear_model/_sag.py:352: ConvergenceWarning: The max_iter was reached which means the coef_ did not converge\n",
      "  warnings.warn(\n",
      "/home/rafid/Documents/github/CSE400-NLP/env/lib/python3.8/site-packages/sklearn/linear_model/_sag.py:352: ConvergenceWarning: The max_iter was reached which means the coef_ did not converge\n",
      "  warnings.warn(\n"
     ]
    },
    {
     "name": "stdout",
     "output_type": "stream",
     "text": [
      "[CV 2/5] END .......C=3, penalty=l2, solver=sag;, score=0.614 total time=  16.4s\n",
      "[CV 3/5] END .......C=3, penalty=l2, solver=sag;, score=0.595 total time=  16.1s\n"
     ]
    },
    {
     "name": "stderr",
     "output_type": "stream",
     "text": [
      "/home/rafid/Documents/github/CSE400-NLP/env/lib/python3.8/site-packages/sklearn/linear_model/_sag.py:352: ConvergenceWarning: The max_iter was reached which means the coef_ did not converge\n",
      "  warnings.warn(\n",
      "/home/rafid/Documents/github/CSE400-NLP/env/lib/python3.8/site-packages/sklearn/linear_model/_logistic.py:1483: UserWarning: Setting penalty='none' will ignore the C and l1_ratio parameters\n",
      "  warnings.warn(\n"
     ]
    },
    {
     "name": "stdout",
     "output_type": "stream",
     "text": [
      "[CV 5/5] END .......C=3, penalty=l2, solver=sag;, score=0.617 total time=  15.5s\n"
     ]
    },
    {
     "name": "stderr",
     "output_type": "stream",
     "text": [
      "/home/rafid/Documents/github/CSE400-NLP/env/lib/python3.8/site-packages/sklearn/linear_model/_sag.py:352: ConvergenceWarning: The max_iter was reached which means the coef_ did not converge\n",
      "  warnings.warn(\n",
      "/home/rafid/Documents/github/CSE400-NLP/env/lib/python3.8/site-packages/sklearn/linear_model/_logistic.py:1483: UserWarning: Setting penalty='none' will ignore the C and l1_ratio parameters\n",
      "  warnings.warn(\n"
     ]
    },
    {
     "name": "stdout",
     "output_type": "stream",
     "text": [
      "[CV 4/5] END .......C=3, penalty=l2, solver=sag;, score=0.614 total time=  16.7s\n",
      "[CV 2/5] END .C=3, penalty=l2, solver=liblinear;, score=0.626 total time=   8.6s\n"
     ]
    },
    {
     "name": "stderr",
     "output_type": "stream",
     "text": [
      "/home/rafid/Documents/github/CSE400-NLP/env/lib/python3.8/site-packages/sklearn/linear_model/_logistic.py:1483: UserWarning: Setting penalty='none' will ignore the C and l1_ratio parameters\n",
      "  warnings.warn(\n"
     ]
    },
    {
     "name": "stdout",
     "output_type": "stream",
     "text": [
      "[CV 4/5] END .C=1, penalty=l1, solver=liblinear;, score=0.632 total time=  29.0s\n",
      "[CV 3/5] END .C=3, penalty=l2, solver=liblinear;, score=0.598 total time=  10.2s\n"
     ]
    },
    {
     "name": "stderr",
     "output_type": "stream",
     "text": [
      "/home/rafid/Documents/github/CSE400-NLP/env/lib/python3.8/site-packages/sklearn/linear_model/_logistic.py:1483: UserWarning: Setting penalty='none' will ignore the C and l1_ratio parameters\n",
      "  warnings.warn(\n",
      "/home/rafid/Documents/github/CSE400-NLP/env/lib/python3.8/site-packages/sklearn/linear_model/_logistic.py:1483: UserWarning: Setting penalty='none' will ignore the C and l1_ratio parameters\n",
      "  warnings.warn(\n"
     ]
    },
    {
     "name": "stdout",
     "output_type": "stream",
     "text": [
      "[CV 4/5] END .C=3, penalty=l2, solver=liblinear;, score=0.616 total time=  10.0s\n",
      "[CV 1/5] END .C=3, penalty=none, solver=liblinear;, score=nan total time=   0.0s\n",
      "[CV 2/5] END .C=3, penalty=none, solver=liblinear;, score=nan total time=   0.0s\n",
      "[CV 3/5] END .C=3, penalty=none, solver=liblinear;, score=nan total time=   0.0s\n",
      "[CV 4/5] END .C=3, penalty=none, solver=liblinear;, score=nan total time=   0.0s\n",
      "[CV 5/5] END .C=3, penalty=none, solver=liblinear;, score=nan total time=   0.0s\n",
      "[CV 1/5] END .........C=3, penalty=l1, solver=sag;, score=nan total time=   0.0s\n",
      "[CV 2/5] END .........C=3, penalty=l1, solver=sag;, score=nan total time=   0.0s\n",
      "[CV 3/5] END .........C=3, penalty=l1, solver=sag;, score=nan total time=   0.0s\n",
      "[CV 4/5] END .........C=3, penalty=l1, solver=sag;, score=nan total time=   0.0s\n",
      "[CV 5/5] END .........C=3, penalty=l1, solver=sag;, score=nan total time=   0.0s\n",
      "[CV 5/5] END .C=3, penalty=l2, solver=liblinear;, score=0.627 total time=  10.3s\n",
      "[CV 5/5] END .C=1, penalty=l1, solver=liblinear;, score=0.637 total time=  29.2s\n"
     ]
    },
    {
     "name": "stderr",
     "output_type": "stream",
     "text": [
      "/home/rafid/Documents/github/CSE400-NLP/env/lib/python3.8/site-packages/sklearn/linear_model/_sag.py:352: ConvergenceWarning: The max_iter was reached which means the coef_ did not converge\n",
      "  warnings.warn(\n",
      "/home/rafid/Documents/github/CSE400-NLP/env/lib/python3.8/site-packages/sklearn/linear_model/_sag.py:352: ConvergenceWarning: The max_iter was reached which means the coef_ did not converge\n",
      "  warnings.warn(\n"
     ]
    },
    {
     "name": "stdout",
     "output_type": "stream",
     "text": [
      "[CV 2/5] END .....C=3, penalty=none, solver=sag;, score=0.605 total time=  15.4s\n",
      "[CV 1/5] END .....C=3, penalty=none, solver=sag;, score=0.632 total time=  16.2s\n"
     ]
    },
    {
     "name": "stderr",
     "output_type": "stream",
     "text": [
      "/home/rafid/Documents/github/CSE400-NLP/env/lib/python3.8/site-packages/sklearn/linear_model/_sag.py:352: ConvergenceWarning: The max_iter was reached which means the coef_ did not converge\n",
      "  warnings.warn(\n"
     ]
    },
    {
     "name": "stdout",
     "output_type": "stream",
     "text": [
      "[CV 3/5] END .....C=3, penalty=none, solver=sag;, score=0.589 total time=  14.9s\n"
     ]
    },
    {
     "name": "stderr",
     "output_type": "stream",
     "text": [
      "/home/rafid/Documents/github/CSE400-NLP/env/lib/python3.8/site-packages/sklearn/linear_model/_sag.py:352: ConvergenceWarning: The max_iter was reached which means the coef_ did not converge\n",
      "  warnings.warn(\n"
     ]
    },
    {
     "name": "stdout",
     "output_type": "stream",
     "text": [
      "[CV 4/5] END .....C=3, penalty=none, solver=sag;, score=0.602 total time=  15.8s\n"
     ]
    },
    {
     "name": "stderr",
     "output_type": "stream",
     "text": [
      "/home/rafid/Documents/github/CSE400-NLP/env/lib/python3.8/site-packages/sklearn/linear_model/_sag.py:352: ConvergenceWarning: The max_iter was reached which means the coef_ did not converge\n",
      "  warnings.warn(\n"
     ]
    },
    {
     "name": "stdout",
     "output_type": "stream",
     "text": [
      "[CV 5/5] END .....C=3, penalty=none, solver=sag;, score=0.615 total time=  16.2s\n"
     ]
    },
    {
     "name": "stderr",
     "output_type": "stream",
     "text": [
      "/home/rafid/Documents/github/CSE400-NLP/env/lib/python3.8/site-packages/sklearn/linear_model/_sag.py:352: ConvergenceWarning: The max_iter was reached which means the coef_ did not converge\n",
      "  warnings.warn(\n"
     ]
    },
    {
     "name": "stdout",
     "output_type": "stream",
     "text": [
      "[CV 1/5] END .......C=5, penalty=l2, solver=sag;, score=0.643 total time=  17.0s\n"
     ]
    },
    {
     "name": "stderr",
     "output_type": "stream",
     "text": [
      "/home/rafid/Documents/github/CSE400-NLP/env/lib/python3.8/site-packages/sklearn/linear_model/_sag.py:352: ConvergenceWarning: The max_iter was reached which means the coef_ did not converge\n",
      "  warnings.warn(\n"
     ]
    },
    {
     "name": "stdout",
     "output_type": "stream",
     "text": [
      "[CV 2/5] END .......C=5, penalty=l2, solver=sag;, score=0.614 total time=  16.5s\n"
     ]
    },
    {
     "name": "stderr",
     "output_type": "stream",
     "text": [
      "/home/rafid/Documents/github/CSE400-NLP/env/lib/python3.8/site-packages/sklearn/linear_model/_sag.py:352: ConvergenceWarning: The max_iter was reached which means the coef_ did not converge\n",
      "  warnings.warn(\n"
     ]
    },
    {
     "name": "stdout",
     "output_type": "stream",
     "text": [
      "[CV 3/5] END .......C=5, penalty=l2, solver=sag;, score=0.590 total time=  16.6s\n",
      "[CV 1/5] END .C=5, penalty=l2, solver=liblinear;, score=0.652 total time=  10.1s\n"
     ]
    },
    {
     "name": "stderr",
     "output_type": "stream",
     "text": [
      "/home/rafid/Documents/github/CSE400-NLP/env/lib/python3.8/site-packages/sklearn/linear_model/_sag.py:352: ConvergenceWarning: The max_iter was reached which means the coef_ did not converge\n",
      "  warnings.warn(\n"
     ]
    },
    {
     "name": "stdout",
     "output_type": "stream",
     "text": [
      "[CV 4/5] END .......C=5, penalty=l2, solver=sag;, score=0.610 total time=  17.1s\n"
     ]
    },
    {
     "name": "stderr",
     "output_type": "stream",
     "text": [
      "/home/rafid/Documents/github/CSE400-NLP/env/lib/python3.8/site-packages/sklearn/linear_model/_sag.py:352: ConvergenceWarning: The max_iter was reached which means the coef_ did not converge\n",
      "  warnings.warn(\n"
     ]
    },
    {
     "name": "stdout",
     "output_type": "stream",
     "text": [
      "[CV 5/5] END .......C=5, penalty=l2, solver=sag;, score=0.618 total time=  17.5s\n",
      "[CV 2/5] END .C=5, penalty=l2, solver=liblinear;, score=0.618 total time=  12.5s\n",
      "[CV 3/5] END .C=5, penalty=l2, solver=liblinear;, score=0.599 total time=  14.1s\n"
     ]
    },
    {
     "name": "stderr",
     "output_type": "stream",
     "text": [
      "/home/rafid/Documents/github/CSE400-NLP/env/lib/python3.8/site-packages/sklearn/linear_model/_logistic.py:1483: UserWarning: Setting penalty='none' will ignore the C and l1_ratio parameters\n",
      "  warnings.warn(\n"
     ]
    },
    {
     "name": "stdout",
     "output_type": "stream",
     "text": [
      "[CV 4/5] END .C=5, penalty=l2, solver=liblinear;, score=0.608 total time=  14.6s\n"
     ]
    },
    {
     "name": "stderr",
     "output_type": "stream",
     "text": [
      "/home/rafid/Documents/github/CSE400-NLP/env/lib/python3.8/site-packages/sklearn/linear_model/_logistic.py:1483: UserWarning: Setting penalty='none' will ignore the C and l1_ratio parameters\n",
      "  warnings.warn(\n"
     ]
    },
    {
     "name": "stdout",
     "output_type": "stream",
     "text": [
      "[CV 5/5] END .C=5, penalty=l2, solver=liblinear;, score=0.627 total time=  12.7s\n"
     ]
    },
    {
     "name": "stderr",
     "output_type": "stream",
     "text": [
      "/home/rafid/Documents/github/CSE400-NLP/env/lib/python3.8/site-packages/sklearn/linear_model/_logistic.py:1483: UserWarning: Setting penalty='none' will ignore the C and l1_ratio parameters\n",
      "  warnings.warn(\n"
     ]
    },
    {
     "name": "stdout",
     "output_type": "stream",
     "text": [
      "[CV 3/5] END .C=3, penalty=l1, solver=liblinear;, score=0.608 total time= 1.2min\n"
     ]
    },
    {
     "name": "stderr",
     "output_type": "stream",
     "text": [
      "/home/rafid/Documents/github/CSE400-NLP/env/lib/python3.8/site-packages/sklearn/linear_model/_logistic.py:1483: UserWarning: Setting penalty='none' will ignore the C and l1_ratio parameters\n",
      "  warnings.warn(\n",
      "/home/rafid/Documents/github/CSE400-NLP/env/lib/python3.8/site-packages/sklearn/linear_model/_sag.py:352: ConvergenceWarning: The max_iter was reached which means the coef_ did not converge\n",
      "  warnings.warn(\n",
      "/home/rafid/Documents/github/CSE400-NLP/env/lib/python3.8/site-packages/sklearn/linear_model/_logistic.py:1483: UserWarning: Setting penalty='none' will ignore the C and l1_ratio parameters\n",
      "  warnings.warn(\n"
     ]
    },
    {
     "name": "stdout",
     "output_type": "stream",
     "text": [
      "[CV 1/5] END .....C=5, penalty=none, solver=sag;, score=0.632 total time=  17.0s\n"
     ]
    },
    {
     "name": "stderr",
     "output_type": "stream",
     "text": [
      "/home/rafid/Documents/github/CSE400-NLP/env/lib/python3.8/site-packages/sklearn/linear_model/_sag.py:352: ConvergenceWarning: The max_iter was reached which means the coef_ did not converge\n",
      "  warnings.warn(\n"
     ]
    },
    {
     "name": "stdout",
     "output_type": "stream",
     "text": [
      "[CV 2/5] END .....C=5, penalty=none, solver=sag;, score=0.605 total time=  16.6s\n",
      "[CV 1/5] END .C=5, penalty=none, solver=liblinear;, score=nan total time=   0.0s\n",
      "[CV 2/5] END .C=5, penalty=none, solver=liblinear;, score=nan total time=   0.0s\n",
      "[CV 3/5] END .C=5, penalty=none, solver=liblinear;, score=nan total time=   0.0s\n",
      "[CV 4/5] END .C=5, penalty=none, solver=liblinear;, score=nan total time=   0.0s\n",
      "[CV 5/5] END .C=5, penalty=none, solver=liblinear;, score=nan total time=   0.0s\n",
      "[CV 1/5] END .........C=5, penalty=l1, solver=sag;, score=nan total time=   0.0s\n",
      "[CV 2/5] END .........C=5, penalty=l1, solver=sag;, score=nan total time=   0.0s\n",
      "[CV 3/5] END .........C=5, penalty=l1, solver=sag;, score=nan total time=   0.0s\n",
      "[CV 4/5] END .........C=5, penalty=l1, solver=sag;, score=nan total time=   0.0s\n",
      "[CV 5/5] END .........C=5, penalty=l1, solver=sag;, score=nan total time=   0.0s\n"
     ]
    },
    {
     "name": "stderr",
     "output_type": "stream",
     "text": [
      "/home/rafid/Documents/github/CSE400-NLP/env/lib/python3.8/site-packages/sklearn/linear_model/_sag.py:352: ConvergenceWarning: The max_iter was reached which means the coef_ did not converge\n",
      "  warnings.warn(\n"
     ]
    },
    {
     "name": "stdout",
     "output_type": "stream",
     "text": [
      "[CV 3/5] END .....C=5, penalty=none, solver=sag;, score=0.589 total time=  15.4s\n",
      "[CV 1/5] END .C=3, penalty=l1, solver=liblinear;, score=0.659 total time= 1.4min\n",
      "[CV 2/5] END .C=3, penalty=l1, solver=liblinear;, score=0.637 total time= 1.4min\n"
     ]
    },
    {
     "name": "stderr",
     "output_type": "stream",
     "text": [
      "/home/rafid/Documents/github/CSE400-NLP/env/lib/python3.8/site-packages/sklearn/linear_model/_sag.py:352: ConvergenceWarning: The max_iter was reached which means the coef_ did not converge\n",
      "  warnings.warn(\n"
     ]
    },
    {
     "name": "stdout",
     "output_type": "stream",
     "text": [
      "[CV 4/5] END .....C=5, penalty=none, solver=sag;, score=0.602 total time=  16.1s\n"
     ]
    },
    {
     "name": "stderr",
     "output_type": "stream",
     "text": [
      "/home/rafid/Documents/github/CSE400-NLP/env/lib/python3.8/site-packages/sklearn/linear_model/_sag.py:352: ConvergenceWarning: The max_iter was reached which means the coef_ did not converge\n",
      "  warnings.warn(\n"
     ]
    },
    {
     "name": "stdout",
     "output_type": "stream",
     "text": [
      "[CV 5/5] END .....C=5, penalty=none, solver=sag;, score=0.615 total time=  16.4s\n",
      "[CV 5/5] END .C=3, penalty=l1, solver=liblinear;, score=0.634 total time= 1.4min\n",
      "[CV 4/5] END .C=3, penalty=l1, solver=liblinear;, score=0.614 total time= 1.4min\n",
      "[CV 2/5] END .C=5, penalty=l1, solver=liblinear;, score=0.637 total time= 1.3min\n",
      "[CV 4/5] END .C=5, penalty=l1, solver=liblinear;, score=0.602 total time= 1.4min\n",
      "[CV 3/5] END .C=5, penalty=l1, solver=liblinear;, score=0.598 total time= 1.5min\n",
      "[CV 1/5] END .C=5, penalty=l1, solver=liblinear;, score=0.653 total time= 1.6min\n",
      "[CV 5/5] END .C=5, penalty=l1, solver=liblinear;, score=0.633 total time= 1.4min\n"
     ]
    },
    {
     "name": "stderr",
     "output_type": "stream",
     "text": [
      "/home/rafid/Documents/github/CSE400-NLP/env/lib/python3.8/site-packages/sklearn/model_selection/_validation.py:372: FitFailedWarning: \n",
      "40 fits failed out of a total of 120.\n",
      "The score on these train-test partitions for these parameters will be set to nan.\n",
      "If these failures are not expected, you can try to debug them by setting error_score='raise'.\n",
      "\n",
      "Below are more details about the failures:\n",
      "--------------------------------------------------------------------------------\n",
      "20 fits failed with the following error:\n",
      "Traceback (most recent call last):\n",
      "  File \"/home/rafid/Documents/github/CSE400-NLP/env/lib/python3.8/site-packages/sklearn/model_selection/_validation.py\", line 680, in _fit_and_score\n",
      "    estimator.fit(X_train, y_train, **fit_params)\n",
      "  File \"/home/rafid/Documents/github/CSE400-NLP/env/lib/python3.8/site-packages/sklearn/linear_model/_logistic.py\", line 1461, in fit\n",
      "    solver = _check_solver(self.solver, self.penalty, self.dual)\n",
      "  File \"/home/rafid/Documents/github/CSE400-NLP/env/lib/python3.8/site-packages/sklearn/linear_model/_logistic.py\", line 464, in _check_solver\n",
      "    raise ValueError(\"penalty='none' is not supported for the liblinear solver\")\n",
      "ValueError: penalty='none' is not supported for the liblinear solver\n",
      "\n",
      "--------------------------------------------------------------------------------\n",
      "20 fits failed with the following error:\n",
      "Traceback (most recent call last):\n",
      "  File \"/home/rafid/Documents/github/CSE400-NLP/env/lib/python3.8/site-packages/sklearn/model_selection/_validation.py\", line 680, in _fit_and_score\n",
      "    estimator.fit(X_train, y_train, **fit_params)\n",
      "  File \"/home/rafid/Documents/github/CSE400-NLP/env/lib/python3.8/site-packages/sklearn/linear_model/_logistic.py\", line 1461, in fit\n",
      "    solver = _check_solver(self.solver, self.penalty, self.dual)\n",
      "  File \"/home/rafid/Documents/github/CSE400-NLP/env/lib/python3.8/site-packages/sklearn/linear_model/_logistic.py\", line 447, in _check_solver\n",
      "    raise ValueError(\n",
      "ValueError: Solver sag supports only 'l2' or 'none' penalties, got l1 penalty.\n",
      "\n",
      "  warnings.warn(some_fits_failed_message, FitFailedWarning)\n",
      "/home/rafid/Documents/github/CSE400-NLP/env/lib/python3.8/site-packages/sklearn/model_selection/_search.py:969: UserWarning: One or more of the test scores are non-finite: [0.62845218 0.63514296 0.60856558        nan        nan 0.63315332\n",
      " 0.62736752 0.63387648 0.60856558        nan        nan 0.63441963\n",
      " 0.61742356 0.62483587 0.60856558        nan        nan 0.63026066\n",
      " 0.6152544  0.62049689 0.60856558        nan        nan 0.62447502]\n",
      "  warnings.warn(\n"
     ]
    },
    {
     "data": {
      "text/plain": [
       "GridSearchCV(cv=5,\n",
       "             estimator=LogisticRegression(class_weight='balanced',\n",
       "                                          random_state=42),\n",
       "             n_jobs=-1,\n",
       "             param_grid={'C': [0.75, 1, 3, 5], 'penalty': ['l2', 'none', 'l1'],\n",
       "                         'solver': ['sag', 'liblinear']},\n",
       "             verbose=5)"
      ]
     },
     "execution_count": 21,
     "metadata": {},
     "output_type": "execute_result"
    }
   ],
   "source": [
    "lr_g.fit(x, y)\n"
   ]
  },
  {
   "cell_type": "code",
   "execution_count": 22,
   "metadata": {},
   "outputs": [
    {
     "name": "stdout",
     "output_type": "stream",
     "text": [
      "0.6351429584217482\n",
      "{'C': 0.75, 'penalty': 'l2', 'solver': 'liblinear'}\n",
      "LogisticRegression(C=0.75, class_weight='balanced', random_state=42,\n",
      "                   solver='liblinear')\n"
     ]
    }
   ],
   "source": [
    "print(lr_g.best_score_)\n",
    "print(lr_g.best_params_)\n",
    "print(lr_g.best_estimator_)"
   ]
  },
  {
   "cell_type": "markdown",
   "metadata": {},
   "source": [
    "## SVM"
   ]
  },
  {
   "cell_type": "code",
   "execution_count": null,
   "metadata": {},
   "outputs": [],
   "source": [
    "svm = SVC(kernel='linear', probability=True, random_state=42)\n",
    "test_accuracy(svm)"
   ]
  },
  {
   "cell_type": "code",
   "execution_count": null,
   "metadata": {},
   "outputs": [],
   "source": []
  },
  {
   "cell_type": "code",
   "execution_count": null,
   "metadata": {},
   "outputs": [],
   "source": []
  },
  {
   "cell_type": "markdown",
   "metadata": {},
   "source": [
    "## Random Forest"
   ]
  },
  {
   "cell_type": "code",
   "execution_count": null,
   "metadata": {},
   "outputs": [],
   "source": [
    "rf = RandomForestClassifier(random_state=42)\n",
    "test_accuracy(rf)"
   ]
  },
  {
   "cell_type": "code",
   "execution_count": null,
   "metadata": {},
   "outputs": [],
   "source": []
  }
 ],
 "metadata": {
  "interpreter": {
   "hash": "4ed4bbf83b94bed540e4a6248a5de1e2eb8a809c16f0f6392d7883b316929957"
  },
  "kernelspec": {
   "display_name": "Python 3.8.10 ('env': venv)",
   "language": "python",
   "name": "python3"
  },
  "language_info": {
   "codemirror_mode": {
    "name": "ipython",
    "version": 3
   },
   "file_extension": ".py",
   "mimetype": "text/x-python",
   "name": "python",
   "nbconvert_exporter": "python",
   "pygments_lexer": "ipython3",
   "version": "3.8.10"
  },
  "orig_nbformat": 4
 },
 "nbformat": 4,
 "nbformat_minor": 2
}
