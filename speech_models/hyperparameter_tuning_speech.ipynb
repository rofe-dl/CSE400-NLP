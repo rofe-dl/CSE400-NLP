{
 "cells": [
  {
   "cell_type": "code",
   "execution_count": 1,
   "metadata": {},
   "outputs": [],
   "source": [
    "from sklearn.linear_model import LogisticRegression\n",
    "from sklearn.model_selection import GridSearchCV, train_test_split, RandomizedSearchCV\n",
    "from sklearn.ensemble import RandomForestClassifier\n",
    "from sklearn.preprocessing import MinMaxScaler\n",
    "from sklearn.metrics import classification_report\n",
    "from sklearn.svm import SVC\n",
    "from sklearn.model_selection import cross_validate, cross_val_score, StratifiedKFold\n",
    "\n",
    "import pickle\n",
    "import numpy as np\n",
    "\n",
    "import sys\n",
    "sys.path.append('..')\n",
    "\n",
    "from process_dataset import speech_features"
   ]
  },
  {
   "cell_type": "code",
   "execution_count": 2,
   "metadata": {},
   "outputs": [],
   "source": [
    "def print_scores(scores):\n",
    "    print('Accuracy: ', np.mean(scores['test_accuracy']))\n",
    "    print('F1 Macro: ', np.mean(scores['test_f1_macro']))\n",
    "    print('Precision Macro: ', np.mean(scores['test_precision_macro']))\n",
    "    print('Recall Macro: ', np.mean(scores['test_recall_macro']))\n",
    "\n",
    "def get_data():\n",
    "    with open('../data/speech_features.pkl', 'rb') as f:\n",
    "        data = pickle.load(f)\n",
    "\n",
    "    x = np.array(data[0])\n",
    "    y = np.array(data[1])\n",
    "    \n",
    "    x = MinMaxScaler().fit_transform(x)\n",
    "\n",
    "    return x, y\n",
    "\n",
    "x, y = get_data()\n",
    "\n",
    "def cross_validate_model(model):\n",
    "    x, y = get_data()\n",
    "    scoring = {'accuracy': 'accuracy',\n",
    "           'f1_macro': 'f1_macro',\n",
    "           'precision_macro': 'precision_macro',\n",
    "           'recall_macro' : 'recall_macro'}\n",
    "\n",
    "    scores = cross_validate(model, x, y, cv=5, scoring=scoring, n_jobs=-1)\n",
    "    print_scores(scores)\n",
    "\n",
    "def check_accuracy(model):\n",
    "    x, y = get_data()\n",
    "    x_train, x_test, y_train, y_test = train_test_split(x, y, test_size=0.2, random_state=42)\n",
    "    model.fit(x_train, y_train)\n",
    "    results = model.predict(x_test)\n",
    "\n",
    "    print(classification_report(y_test, results))"
   ]
  },
  {
   "cell_type": "markdown",
   "metadata": {},
   "source": [
    "## Logistic Regression"
   ]
  },
  {
   "cell_type": "code",
   "execution_count": 125,
   "metadata": {},
   "outputs": [
    {
     "name": "stdout",
     "output_type": "stream",
     "text": [
      "Accuracy:  0.6320684906668235\n",
      "F1 Macro:  0.6377622648377621\n",
      "Precision Macro:  0.6391974740933859\n",
      "Recall Macro:  0.6382607778550325\n"
     ]
    }
   ],
   "source": [
    "lr = LogisticRegression(penalty='l1', solver='liblinear')\n",
    "# cross_validate_model(lr)\n",
    "check_accuracy(lr)"
   ]
  },
  {
   "cell_type": "markdown",
   "metadata": {},
   "source": [
    "### Random Search"
   ]
  },
  {
   "cell_type": "code",
   "execution_count": 72,
   "metadata": {},
   "outputs": [],
   "source": [
    "params = {\n",
    "    'solver': ['liblinear', 'saga', 'sag'],\n",
    "    'penalty' : ['l1', 'l2', 'elasticnet'],\n",
    "    'C' : [0.001, 0.01, 0.1, 1, 10, 100]\n",
    "}"
   ]
  },
  {
   "cell_type": "code",
   "execution_count": 73,
   "metadata": {},
   "outputs": [
    {
     "name": "stdout",
     "output_type": "stream",
     "text": [
      "Fitting 5 folds for each of 9 candidates, totalling 45 fits\n"
     ]
    },
    {
     "name": "stderr",
     "output_type": "stream",
     "text": [
      "/home/rafid/Documents/github/CSE400-NLP/env/lib/python3.8/site-packages/sklearn/model_selection/_search.py:292: UserWarning: The total space of parameters 9 is smaller than n_iter=40. Running 9 iterations. For exhaustive searches, use GridSearchCV.\n",
      "  warnings.warn(\n"
     ]
    },
    {
     "name": "stdout",
     "output_type": "stream",
     "text": [
      "[CV 4/5] END ......penalty=l1, solver=liblinear;, score=0.505 total time=  34.7s\n",
      "[CV 5/5] END ......penalty=l1, solver=liblinear;, score=0.482 total time=  41.1s\n",
      "[CV 1/5] END ......penalty=l1, solver=liblinear;, score=0.467 total time=  42.9s\n",
      "[CV 1/5] END ..............penalty=l1, solver=sag;, score=nan total time=   0.0s\n",
      "[CV 2/5] END ..............penalty=l1, solver=sag;, score=nan total time=   0.1s\n",
      "[CV 3/5] END ..............penalty=l1, solver=sag;, score=nan total time=   0.0s\n",
      "[CV 4/5] END ..............penalty=l1, solver=sag;, score=nan total time=   0.0s\n",
      "[CV 5/5] END ..............penalty=l1, solver=sag;, score=nan total time=   0.0s\n"
     ]
    },
    {
     "name": "stderr",
     "output_type": "stream",
     "text": [
      "/home/rafid/Documents/github/CSE400-NLP/env/lib/python3.8/site-packages/sklearn/linear_model/_sag.py:352: ConvergenceWarning: The max_iter was reached which means the coef_ did not converge\n",
      "  warnings.warn(\n"
     ]
    },
    {
     "name": "stdout",
     "output_type": "stream",
     "text": [
      "[CV 1/5] END ...........penalty=l1, solver=saga;, score=0.468 total time=  48.4s\n",
      "[CV 3/5] END ......penalty=l1, solver=liblinear;, score=0.428 total time=  49.1s\n",
      "[CV 1/5] END ......penalty=l2, solver=liblinear;, score=0.472 total time=   6.4s\n"
     ]
    },
    {
     "name": "stderr",
     "output_type": "stream",
     "text": [
      "/home/rafid/Documents/github/CSE400-NLP/env/lib/python3.8/site-packages/sklearn/linear_model/_sag.py:352: ConvergenceWarning: The max_iter was reached which means the coef_ did not converge\n",
      "  warnings.warn(\n",
      "/home/rafid/Documents/github/CSE400-NLP/env/lib/python3.8/site-packages/sklearn/linear_model/_sag.py:352: ConvergenceWarning: The max_iter was reached which means the coef_ did not converge\n",
      "  warnings.warn(\n"
     ]
    },
    {
     "name": "stdout",
     "output_type": "stream",
     "text": [
      "[CV 3/5] END ...........penalty=l1, solver=saga;, score=0.437 total time=  49.4s\n",
      "[CV 2/5] END ...........penalty=l1, solver=saga;, score=0.441 total time=  49.7s\n",
      "[CV 2/5] END ......penalty=l1, solver=liblinear;, score=0.445 total time=  52.0s\n",
      "[CV 2/5] END ......penalty=l2, solver=liblinear;, score=0.440 total time=   9.1s\n",
      "[CV 3/5] END ......penalty=l2, solver=liblinear;, score=0.426 total time=   9.1s\n",
      "[CV 5/5] END ......penalty=l2, solver=liblinear;, score=0.467 total time=   8.6s\n",
      "[CV 4/5] END ......penalty=l2, solver=liblinear;, score=0.495 total time=   9.3s\n"
     ]
    },
    {
     "name": "stderr",
     "output_type": "stream",
     "text": [
      "/home/rafid/Documents/github/CSE400-NLP/env/lib/python3.8/site-packages/sklearn/linear_model/_sag.py:352: ConvergenceWarning: The max_iter was reached which means the coef_ did not converge\n",
      "  warnings.warn(\n"
     ]
    },
    {
     "name": "stdout",
     "output_type": "stream",
     "text": [
      "[CV 1/5] END ............penalty=l2, solver=sag;, score=0.469 total time=  19.5s\n"
     ]
    },
    {
     "name": "stderr",
     "output_type": "stream",
     "text": [
      "/home/rafid/Documents/github/CSE400-NLP/env/lib/python3.8/site-packages/sklearn/linear_model/_sag.py:352: ConvergenceWarning: The max_iter was reached which means the coef_ did not converge\n",
      "  warnings.warn(\n"
     ]
    },
    {
     "name": "stdout",
     "output_type": "stream",
     "text": [
      "[CV 4/5] END ...........penalty=l1, solver=saga;, score=0.505 total time=  46.2s\n"
     ]
    },
    {
     "name": "stderr",
     "output_type": "stream",
     "text": [
      "/home/rafid/Documents/github/CSE400-NLP/env/lib/python3.8/site-packages/sklearn/linear_model/_sag.py:352: ConvergenceWarning: The max_iter was reached which means the coef_ did not converge\n",
      "  warnings.warn(\n"
     ]
    },
    {
     "name": "stdout",
     "output_type": "stream",
     "text": [
      "[CV 1/5] END ...........penalty=l2, solver=saga;, score=0.467 total time=  32.3s\n"
     ]
    },
    {
     "name": "stderr",
     "output_type": "stream",
     "text": [
      "/home/rafid/Documents/github/CSE400-NLP/env/lib/python3.8/site-packages/sklearn/linear_model/_sag.py:352: ConvergenceWarning: The max_iter was reached which means the coef_ did not converge\n",
      "  warnings.warn(\n",
      "/home/rafid/Documents/github/CSE400-NLP/env/lib/python3.8/site-packages/sklearn/linear_model/_sag.py:352: ConvergenceWarning: The max_iter was reached which means the coef_ did not converge\n",
      "  warnings.warn(\n"
     ]
    },
    {
     "name": "stdout",
     "output_type": "stream",
     "text": [
      "[CV 5/5] END ...........penalty=l1, solver=saga;, score=0.472 total time=  45.6s\n",
      "[CV 2/5] END ...........penalty=l2, solver=saga;, score=0.428 total time=  34.9s\n",
      "[CV 1/5] END penalty=elasticnet, solver=liblinear;, score=nan total time=   0.0s\n",
      "[CV 2/5] END penalty=elasticnet, solver=liblinear;, score=nan total time=   0.0s\n",
      "[CV 3/5] END penalty=elasticnet, solver=liblinear;, score=nan total time=   0.0s\n",
      "[CV 4/5] END penalty=elasticnet, solver=liblinear;, score=nan total time=   0.0s\n",
      "[CV 5/5] END penalty=elasticnet, solver=liblinear;, score=nan total time=   0.0s\n",
      "[CV 1/5] END .....penalty=elasticnet, solver=saga;, score=nan total time=   0.0s\n",
      "[CV 2/5] END .....penalty=elasticnet, solver=saga;, score=nan total time=   0.0s\n",
      "[CV 3/5] END .....penalty=elasticnet, solver=saga;, score=nan total time=   0.0s\n",
      "[CV 4/5] END .....penalty=elasticnet, solver=saga;, score=nan total time=   0.0s\n",
      "[CV 5/5] END .....penalty=elasticnet, solver=saga;, score=nan total time=   0.0s\n",
      "[CV 1/5] END ......penalty=elasticnet, solver=sag;, score=nan total time=   0.0s\n",
      "[CV 2/5] END ......penalty=elasticnet, solver=sag;, score=nan total time=   0.0s\n",
      "[CV 3/5] END ......penalty=elasticnet, solver=sag;, score=nan total time=   0.0s\n",
      "[CV 4/5] END ......penalty=elasticnet, solver=sag;, score=nan total time=   0.0s\n",
      "[CV 5/5] END ......penalty=elasticnet, solver=sag;, score=nan total time=   0.0s\n"
     ]
    },
    {
     "name": "stderr",
     "output_type": "stream",
     "text": [
      "/home/rafid/Documents/github/CSE400-NLP/env/lib/python3.8/site-packages/sklearn/linear_model/_sag.py:352: ConvergenceWarning: The max_iter was reached which means the coef_ did not converge\n",
      "  warnings.warn(\n"
     ]
    },
    {
     "name": "stdout",
     "output_type": "stream",
     "text": [
      "[CV 4/5] END ...........penalty=l2, solver=saga;, score=0.491 total time=  30.7s\n"
     ]
    },
    {
     "name": "stderr",
     "output_type": "stream",
     "text": [
      "/home/rafid/Documents/github/CSE400-NLP/env/lib/python3.8/site-packages/sklearn/linear_model/_sag.py:352: ConvergenceWarning: The max_iter was reached which means the coef_ did not converge\n",
      "  warnings.warn(\n"
     ]
    },
    {
     "name": "stdout",
     "output_type": "stream",
     "text": [
      "[CV 5/5] END ...........penalty=l2, solver=saga;, score=0.463 total time=  32.4s\n"
     ]
    },
    {
     "name": "stderr",
     "output_type": "stream",
     "text": [
      "/home/rafid/Documents/github/CSE400-NLP/env/lib/python3.8/site-packages/sklearn/linear_model/_sag.py:352: ConvergenceWarning: The max_iter was reached which means the coef_ did not converge\n",
      "  warnings.warn(\n"
     ]
    },
    {
     "name": "stdout",
     "output_type": "stream",
     "text": [
      "[CV 3/5] END ...........penalty=l2, solver=saga;, score=0.432 total time=  33.9s\n"
     ]
    },
    {
     "name": "stderr",
     "output_type": "stream",
     "text": [
      "/home/rafid/Documents/github/CSE400-NLP/env/lib/python3.8/site-packages/sklearn/linear_model/_sag.py:352: ConvergenceWarning: The max_iter was reached which means the coef_ did not converge\n",
      "  warnings.warn(\n"
     ]
    },
    {
     "name": "stdout",
     "output_type": "stream",
     "text": [
      "[CV 2/5] END ............penalty=l2, solver=sag;, score=0.430 total time=  16.8s\n"
     ]
    },
    {
     "name": "stderr",
     "output_type": "stream",
     "text": [
      "/home/rafid/Documents/github/CSE400-NLP/env/lib/python3.8/site-packages/sklearn/linear_model/_sag.py:352: ConvergenceWarning: The max_iter was reached which means the coef_ did not converge\n",
      "  warnings.warn(\n"
     ]
    },
    {
     "name": "stdout",
     "output_type": "stream",
     "text": [
      "[CV 4/5] END ............penalty=l2, solver=sag;, score=0.491 total time=  15.2s\n"
     ]
    },
    {
     "name": "stderr",
     "output_type": "stream",
     "text": [
      "/home/rafid/Documents/github/CSE400-NLP/env/lib/python3.8/site-packages/sklearn/linear_model/_sag.py:352: ConvergenceWarning: The max_iter was reached which means the coef_ did not converge\n",
      "  warnings.warn(\n"
     ]
    },
    {
     "name": "stdout",
     "output_type": "stream",
     "text": [
      "[CV 3/5] END ............penalty=l2, solver=sag;, score=0.430 total time=  16.8s\n"
     ]
    },
    {
     "name": "stderr",
     "output_type": "stream",
     "text": [
      "/home/rafid/Documents/github/CSE400-NLP/env/lib/python3.8/site-packages/sklearn/linear_model/_sag.py:352: ConvergenceWarning: The max_iter was reached which means the coef_ did not converge\n",
      "  warnings.warn(\n",
      "/home/rafid/Documents/github/CSE400-NLP/env/lib/python3.8/site-packages/sklearn/model_selection/_validation.py:372: FitFailedWarning: \n",
      "20 fits failed out of a total of 45.\n",
      "The score on these train-test partitions for these parameters will be set to nan.\n",
      "If these failures are not expected, you can try to debug them by setting error_score='raise'.\n",
      "\n",
      "Below are more details about the failures:\n",
      "--------------------------------------------------------------------------------\n",
      "5 fits failed with the following error:\n",
      "Traceback (most recent call last):\n",
      "  File \"/home/rafid/Documents/github/CSE400-NLP/env/lib/python3.8/site-packages/sklearn/model_selection/_validation.py\", line 680, in _fit_and_score\n",
      "    estimator.fit(X_train, y_train, **fit_params)\n",
      "  File \"/home/rafid/Documents/github/CSE400-NLP/env/lib/python3.8/site-packages/sklearn/linear_model/_logistic.py\", line 1461, in fit\n",
      "    solver = _check_solver(self.solver, self.penalty, self.dual)\n",
      "  File \"/home/rafid/Documents/github/CSE400-NLP/env/lib/python3.8/site-packages/sklearn/linear_model/_logistic.py\", line 447, in _check_solver\n",
      "    raise ValueError(\n",
      "ValueError: Solver sag supports only 'l2' or 'none' penalties, got l1 penalty.\n",
      "\n",
      "--------------------------------------------------------------------------------\n",
      "5 fits failed with the following error:\n",
      "Traceback (most recent call last):\n",
      "  File \"/home/rafid/Documents/github/CSE400-NLP/env/lib/python3.8/site-packages/sklearn/model_selection/_validation.py\", line 680, in _fit_and_score\n",
      "    estimator.fit(X_train, y_train, **fit_params)\n",
      "  File \"/home/rafid/Documents/github/CSE400-NLP/env/lib/python3.8/site-packages/sklearn/linear_model/_logistic.py\", line 1461, in fit\n",
      "    solver = _check_solver(self.solver, self.penalty, self.dual)\n",
      "  File \"/home/rafid/Documents/github/CSE400-NLP/env/lib/python3.8/site-packages/sklearn/linear_model/_logistic.py\", line 457, in _check_solver\n",
      "    raise ValueError(\n",
      "ValueError: Only 'saga' solver supports elasticnet penalty, got solver=liblinear.\n",
      "\n",
      "--------------------------------------------------------------------------------\n",
      "5 fits failed with the following error:\n",
      "Traceback (most recent call last):\n",
      "  File \"/home/rafid/Documents/github/CSE400-NLP/env/lib/python3.8/site-packages/sklearn/model_selection/_validation.py\", line 680, in _fit_and_score\n",
      "    estimator.fit(X_train, y_train, **fit_params)\n",
      "  File \"/home/rafid/Documents/github/CSE400-NLP/env/lib/python3.8/site-packages/sklearn/linear_model/_logistic.py\", line 1471, in fit\n",
      "    raise ValueError(\n",
      "ValueError: l1_ratio must be between 0 and 1; got (l1_ratio=None)\n",
      "\n",
      "--------------------------------------------------------------------------------\n",
      "5 fits failed with the following error:\n",
      "Traceback (most recent call last):\n",
      "  File \"/home/rafid/Documents/github/CSE400-NLP/env/lib/python3.8/site-packages/sklearn/model_selection/_validation.py\", line 680, in _fit_and_score\n",
      "    estimator.fit(X_train, y_train, **fit_params)\n",
      "  File \"/home/rafid/Documents/github/CSE400-NLP/env/lib/python3.8/site-packages/sklearn/linear_model/_logistic.py\", line 1461, in fit\n",
      "    solver = _check_solver(self.solver, self.penalty, self.dual)\n",
      "  File \"/home/rafid/Documents/github/CSE400-NLP/env/lib/python3.8/site-packages/sklearn/linear_model/_logistic.py\", line 447, in _check_solver\n",
      "    raise ValueError(\n",
      "ValueError: Solver sag supports only 'l2' or 'none' penalties, got elasticnet penalty.\n",
      "\n",
      "  warnings.warn(some_fits_failed_message, FitFailedWarning)\n",
      "/home/rafid/Documents/github/CSE400-NLP/env/lib/python3.8/site-packages/sklearn/model_selection/_search.py:969: UserWarning: One or more of the test scores are non-finite: [0.46558266 0.46476965        nan 0.4601626  0.45650407 0.45623306\n",
      "        nan        nan        nan]\n",
      "  warnings.warn(\n"
     ]
    },
    {
     "name": "stdout",
     "output_type": "stream",
     "text": [
      "[CV 5/5] END ............penalty=l2, solver=sag;, score=0.463 total time=  13.6s\n"
     ]
    },
    {
     "data": {
      "text/plain": [
       "RandomizedSearchCV(cv=5, estimator=LogisticRegression(random_state=42),\n",
       "                   n_iter=40, n_jobs=-1,\n",
       "                   param_distributions={'penalty': ['l1', 'l2', 'elasticnet'],\n",
       "                                        'solver': ['liblinear', 'saga', 'sag']},\n",
       "                   random_state=42, verbose=5)"
      ]
     },
     "execution_count": 73,
     "metadata": {},
     "output_type": "execute_result"
    }
   ],
   "source": [
    "lr_g = RandomizedSearchCV(LogisticRegression(random_state=42), param_distributions=params, n_iter=40, n_jobs=-1, cv=5, random_state=42, verbose=5)\n",
    "\n",
    "lr_g.fit(x, y)"
   ]
  },
  {
   "cell_type": "code",
   "execution_count": 74,
   "metadata": {},
   "outputs": [
    {
     "name": "stdout",
     "output_type": "stream",
     "text": [
      "{'solver': 'liblinear', 'penalty': 'l1'}\n",
      "0.4655826558265582\n",
      "LogisticRegression(penalty='l1', random_state=42, solver='liblinear')\n"
     ]
    }
   ],
   "source": [
    "print(lr_g.best_params_)\n",
    "print(lr_g.best_score_)\n",
    "print(lr_g.best_estimator_)"
   ]
  },
  {
   "cell_type": "code",
   "execution_count": null,
   "metadata": {},
   "outputs": [],
   "source": [
    "lr_g = GridSearchCV(LogisticRegression(solver='newton-cg', random_state=42), param_grid={\n",
    "    'penalty': ['l2', 'none'],\n",
    "    'multi_class': ['auto', 'ovr', 'multinomial'],\n",
    "    'class_weight': ['balanced', None],\n",
    "    'C': np.logspace(-4, 4, 7)\n",
    "}, cv=3, return_train_score=False, verbose=10, n_jobs=-1)\n",
    "\n",
    "lr_g.fit(x, y)\n"
   ]
  },
  {
   "cell_type": "code",
   "execution_count": null,
   "metadata": {},
   "outputs": [],
   "source": [
    "print(lr_g.best_score_)\n",
    "print(lr_g.best_params_)"
   ]
  },
  {
   "cell_type": "markdown",
   "metadata": {},
   "source": [
    "## SVM"
   ]
  },
  {
   "cell_type": "code",
   "execution_count": null,
   "metadata": {},
   "outputs": [],
   "source": [
    "svm = SVC(kernel='linear', probability=True, random_state=42)\n",
    "test_accuracy(svm)"
   ]
  },
  {
   "cell_type": "code",
   "execution_count": null,
   "metadata": {},
   "outputs": [],
   "source": []
  },
  {
   "cell_type": "code",
   "execution_count": null,
   "metadata": {},
   "outputs": [],
   "source": []
  },
  {
   "cell_type": "markdown",
   "metadata": {},
   "source": [
    "## Random Forest"
   ]
  },
  {
   "cell_type": "code",
   "execution_count": null,
   "metadata": {},
   "outputs": [],
   "source": [
    "rf = RandomForestClassifier(random_state=42)\n",
    "test_accuracy(rf)"
   ]
  },
  {
   "cell_type": "code",
   "execution_count": null,
   "metadata": {},
   "outputs": [],
   "source": []
  }
 ],
 "metadata": {
  "interpreter": {
   "hash": "4ed4bbf83b94bed540e4a6248a5de1e2eb8a809c16f0f6392d7883b316929957"
  },
  "kernelspec": {
   "display_name": "Python 3.8.10 ('env': venv)",
   "language": "python",
   "name": "python3"
  },
  "language_info": {
   "codemirror_mode": {
    "name": "ipython",
    "version": 3
   },
   "file_extension": ".py",
   "mimetype": "text/x-python",
   "name": "python",
   "nbconvert_exporter": "python",
   "pygments_lexer": "ipython3",
   "version": "3.8.10"
  },
  "orig_nbformat": 4
 },
 "nbformat": 4,
 "nbformat_minor": 2
}
