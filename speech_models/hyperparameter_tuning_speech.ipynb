{
 "cells": [
  {
   "cell_type": "code",
   "execution_count": 23,
   "metadata": {},
   "outputs": [],
   "source": [
    "from sklearn.linear_model import LogisticRegression\n",
    "from sklearn.model_selection import GridSearchCV, train_test_split, RandomizedSearchCV, ParameterGrid\n",
    "from sklearn.ensemble import RandomForestClassifier\n",
    "from sklearn.preprocessing import MinMaxScaler\n",
    "from sklearn.metrics import classification_report\n",
    "from sklearn.svm import SVC\n",
    "from sklearn.model_selection import cross_validate, cross_val_score, StratifiedKFold\n",
    "\n",
    "import pickle\n",
    "import numpy as np\n",
    "\n",
    "import sys\n",
    "sys.path.append('..')\n",
    "\n",
    "from process_dataset import speech_features"
   ]
  },
  {
   "cell_type": "code",
   "execution_count": 24,
   "metadata": {},
   "outputs": [],
   "source": [
    "def print_scores(scores):\n",
    "    print('Accuracy: ', np.mean(scores['test_accuracy']))\n",
    "    print('F1 Macro: ', np.mean(scores['test_f1_macro']))\n",
    "    print('Precision Macro: ', np.mean(scores['test_precision_macro']))\n",
    "    print('Recall Macro: ', np.mean(scores['test_recall_macro']))\n",
    "\n",
    "def get_data():\n",
    "    with open('../data/speech_features.pkl', 'rb') as f:\n",
    "        data = pickle.load(f)\n",
    "\n",
    "    x = np.array(data[0])\n",
    "    y = np.array(data[1])\n",
    "    \n",
    "    x = MinMaxScaler().fit_transform(x)\n",
    "\n",
    "    return x, y\n",
    "\n",
    "x, y = get_data()\n",
    "\n",
    "def cross_validate_model(model):\n",
    "    x, y = get_data()\n",
    "    scoring = {'accuracy': 'accuracy',\n",
    "           'f1_macro': 'f1_macro',\n",
    "           'precision_macro': 'precision_macro',\n",
    "           'recall_macro' : 'recall_macro'}\n",
    "\n",
    "    scores = cross_validate(model, x, y, cv=5, scoring=scoring, n_jobs=-1)\n",
    "    print_scores(scores)\n",
    "\n",
    "def check_accuracy(model):\n",
    "    x, y = get_data()\n",
    "    x_train, x_test, y_train, y_test = train_test_split(x, y, test_size=0.2, random_state=42)\n",
    "    model.fit(x_train, y_train)\n",
    "    results = model.predict(x_test)\n",
    "\n",
    "    print(classification_report(y_test, results))"
   ]
  },
  {
   "cell_type": "markdown",
   "metadata": {},
   "source": [
    "## Logistic Regression"
   ]
  },
  {
   "cell_type": "code",
   "execution_count": 25,
   "metadata": {},
   "outputs": [
    {
     "name": "stdout",
     "output_type": "stream",
     "text": [
      "              precision    recall  f1-score   support\n",
      "\n",
      "         ang       0.63      0.71      0.67       208\n",
      "         hap       0.64      0.58      0.61       317\n",
      "         neu       0.72      0.59      0.65       369\n",
      "         sad       0.59      0.79      0.68       213\n",
      "\n",
      "    accuracy                           0.65      1107\n",
      "   macro avg       0.65      0.67      0.65      1107\n",
      "weighted avg       0.66      0.65      0.65      1107\n",
      "\n"
     ]
    }
   ],
   "source": [
    "# lr = LogisticRegression(penalty='l1', solver='liblinear')\n",
    "# lr = LogisticRegression(C=1, class_weight='balanced', random_state=42, solver='sag')\n",
    "lr = LogisticRegression(C=0.75, class_weight='balanced', random_state=42, solver='liblinear')\n",
    "# cross_validate_model(lr)\n",
    "check_accuracy(lr)"
   ]
  },
  {
   "cell_type": "markdown",
   "metadata": {},
   "source": [
    "### Random Search"
   ]
  },
  {
   "cell_type": "code",
   "execution_count": 8,
   "metadata": {},
   "outputs": [],
   "source": [
    "params = {\n",
    "    'solver': ['liblinear', 'saga', 'sag', 'newton-cg'],\n",
    "    'penalty' : ['l1', 'l2', 'elasticnet', 'none'],\n",
    "    'C' : [0.001, 0.01, 0.1, 1, 10, 30, 50],\n",
    "    'fit_intercept': [True, False],\n",
    "    'class_weight': ['balanced', None],\n",
    "    'multi_class': ['auto', 'ovr', 'multinomial']\n",
    "}"
   ]
  },
  {
   "cell_type": "code",
   "execution_count": null,
   "metadata": {},
   "outputs": [],
   "source": [
    "lr_g = RandomizedSearchCV(LogisticRegression(random_state=42), param_distributions=params, n_iter=50, n_jobs=-1, cv=5, random_state=42, verbose=5)\n",
    "\n",
    "lr_g.fit(x, y)"
   ]
  },
  {
   "cell_type": "code",
   "execution_count": 11,
   "metadata": {},
   "outputs": [
    {
     "name": "stdout",
     "output_type": "stream",
     "text": [
      "{'solver': 'sag', 'penalty': 'l2', 'multi_class': 'auto', 'fit_intercept': True, 'class_weight': 'balanced', 'C': 1}\n",
      "0.627367516592586\n",
      "LogisticRegression(C=1, class_weight='balanced', random_state=42, solver='sag')\n"
     ]
    }
   ],
   "source": [
    "print(lr_g.best_params_)\n",
    "print(lr_g.best_score_)\n",
    "print(lr_g.best_estimator_)"
   ]
  },
  {
   "cell_type": "markdown",
   "metadata": {},
   "source": [
    "### Grid Search"
   ]
  },
  {
   "cell_type": "code",
   "execution_count": 20,
   "metadata": {},
   "outputs": [
    {
     "name": "stdout",
     "output_type": "stream",
     "text": [
      "24 combinations per fold\n"
     ]
    }
   ],
   "source": [
    "params = {\n",
    "    'penalty': ['l2', 'none', 'l1'],\n",
    "    'solver' : ['sag', 'liblinear'],\n",
    "    'C': [0.75, 1, 3, 5]\n",
    "}\n",
    "lr_g = GridSearchCV(LogisticRegression(random_state=42, multi_class='auto', fit_intercept=True, class_weight='balanced'), param_grid=params, cv=5, return_train_score=False, verbose=5, n_jobs=-1)\n",
    "\n",
    "pg = ParameterGrid(params)\n",
    "print(len(pg), 'combinations per fold')\n"
   ]
  },
  {
   "cell_type": "code",
   "execution_count": null,
   "metadata": {},
   "outputs": [],
   "source": [
    "lr_g.fit(x, y)\n"
   ]
  },
  {
   "cell_type": "code",
   "execution_count": 22,
   "metadata": {},
   "outputs": [
    {
     "name": "stdout",
     "output_type": "stream",
     "text": [
      "0.6351429584217482\n",
      "{'C': 0.75, 'penalty': 'l2', 'solver': 'liblinear'}\n",
      "LogisticRegression(C=0.75, class_weight='balanced', random_state=42,\n",
      "                   solver='liblinear')\n"
     ]
    }
   ],
   "source": [
    "print(lr_g.best_score_)\n",
    "print(lr_g.best_params_)\n",
    "print(lr_g.best_estimator_)"
   ]
  },
  {
   "cell_type": "markdown",
   "metadata": {},
   "source": [
    "## SVM"
   ]
  },
  {
   "cell_type": "code",
   "execution_count": null,
   "metadata": {},
   "outputs": [],
   "source": [
    "svm = SVC(kernel='linear', probability=True, random_state=42)\n",
    "test_accuracy(svm)"
   ]
  },
  {
   "cell_type": "code",
   "execution_count": null,
   "metadata": {},
   "outputs": [],
   "source": []
  },
  {
   "cell_type": "code",
   "execution_count": null,
   "metadata": {},
   "outputs": [],
   "source": []
  },
  {
   "cell_type": "markdown",
   "metadata": {},
   "source": [
    "## Random Forest"
   ]
  },
  {
   "cell_type": "code",
   "execution_count": null,
   "metadata": {},
   "outputs": [],
   "source": [
    "rf = RandomForestClassifier(random_state=42)\n",
    "test_accuracy(rf)"
   ]
  },
  {
   "cell_type": "code",
   "execution_count": null,
   "metadata": {},
   "outputs": [],
   "source": []
  }
 ],
 "metadata": {
  "interpreter": {
   "hash": "4ed4bbf83b94bed540e4a6248a5de1e2eb8a809c16f0f6392d7883b316929957"
  },
  "kernelspec": {
   "display_name": "Python 3.8.10 ('env': venv)",
   "language": "python",
   "name": "python3"
  },
  "language_info": {
   "codemirror_mode": {
    "name": "ipython",
    "version": 3
   },
   "file_extension": ".py",
   "mimetype": "text/x-python",
   "name": "python",
   "nbconvert_exporter": "python",
   "pygments_lexer": "ipython3",
   "version": "3.8.10"
  },
  "orig_nbformat": 4
 },
 "nbformat": 4,
 "nbformat_minor": 2
}
